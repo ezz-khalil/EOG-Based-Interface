{
 "cells": [
  {
   "cell_type": "code",
   "execution_count": 1,
   "metadata": {},
   "outputs": [],
   "source": [
    "import pandas as pd\n",
    "import numpy as np\n",
    "import pywt\n",
    "import os\n",
    "import pickle\n",
    "from sklearn.model_selection import train_test_split, GridSearchCV\n",
    "from sklearn.preprocessing import StandardScaler\n",
    "from sklearn.svm import SVC\n",
    "from sklearn.ensemble import RandomForestClassifier\n",
    "from sklearn.metrics import accuracy_score\n",
    "import scipy\n",
    "from helper import strToNp\n",
    "from preprocess import \n",
    "from readData import readData\n",
    "from FeatureExtraction import FeatureExtraction"
   ]
  },
  {
   "cell_type": "code",
   "execution_count": 2,
   "metadata": {},
   "outputs": [],
   "source": [
    "# Prepare Data Files\n",
    "data_csv = \"combined_dataset.csv\"\n",
    "if not os.path.exists(data_csv):\n",
    "    data = readData(\n",
    "        r\"EOG dataset/3-class/\",\n",
    "        data_csv,\n",
    "        \"combined dataset\",\n",
    "    )"
   ]
  },
  {
   "cell_type": "code",
   "execution_count": 3,
   "metadata": {},
   "outputs": [],
   "source": [
    "# Load data\n",
    "data = pd.read_csv(data_csv)"
   ]
  },
  {
   "cell_type": "code",
   "execution_count": 4,
   "metadata": {},
   "outputs": [],
   "source": [
    "# Split data into features and labels\n",
    "X = data.iloc[:, 0].apply(lambda x: strToNp(x)).to_list()\n",
    "y = data.iloc[:, 1].values"
   ]
  },
  {
   "cell_type": "code",
   "execution_count": 5,
   "metadata": {},
   "outputs": [],
   "source": [
    "# Create Preprocess object\n",
    "preprocess = Preprocess()\n",
    "featureExtraction = FeatureExtraction()"
   ]
  },
  {
   "cell_type": "code",
   "execution_count": 6,
   "metadata": {},
   "outputs": [],
   "source": [
    "# Apply preprocessing\n",
    "X = [preprocess.fullPreprocess(x) for x in X]"
   ]
  },
  {
   "cell_type": "code",
   "execution_count": 7,
   "metadata": {},
   "outputs": [
    {
     "name": "stderr",
     "output_type": "stream",
     "text": [
      "c:\\Users\\mahmo\\anaconda3\\envs\\HCI\\lib\\site-packages\\pywt\\_multilevel.py:43: UserWarning: Level value of 2 is too high: all coefficients will experience boundary effects.\n",
      "  warnings.warn(\n"
     ]
    },
    {
     "name": "stdout",
     "output_type": "stream",
     "text": [
      "Shape of X_Wavelet_features: (200, 1, 75, 164)\n",
      "Shape of X_PSD_features: (200, 25, 2)\n"
     ]
    }
   ],
   "source": [
    "X_Wavelet_features = [featureExtraction.extract_wavelet_features(x) for x in X]\n",
    "X_Wavelet_features = np.array(X_Wavelet_features)\n",
    "\n",
    "X_PSD_features = [featureExtraction.extract_psd_features(x) for x in X]\n",
    "X_PSD_features = np.array(X_PSD_features)\n",
    "\n",
    "\n",
    "# Check shape of training data\n",
    "print(\"Shape of X_Wavelet_features:\", X_Wavelet_features.shape)\n",
    "print(\"Shape of X_PSD_features:\", X_PSD_features.shape)"
   ]
  },
  {
   "cell_type": "code",
   "execution_count": 8,
   "metadata": {},
   "outputs": [
    {
     "name": "stdout",
     "output_type": "stream",
     "text": [
      "Shape of X_Wavelet_features: (200, 12300)\n",
      "Shape of X_PSD_features: (200, 50)\n"
     ]
    }
   ],
   "source": [
    "\n",
    "# Reshape features to have a compatible shape\n",
    "X_Wavelet_features = X_Wavelet_features.reshape(len(X_Wavelet_features), -1)\n",
    "X_PSD_features = X_PSD_features.reshape(len(X_PSD_features), -1)\n",
    "\n",
    "\n",
    "# Check shape of training data\n",
    "print(\"Shape of X_Wavelet_features:\", X_Wavelet_features.shape)\n",
    "print(\"Shape of X_PSD_features:\", X_PSD_features.shape)"
   ]
  },
  {
   "cell_type": "code",
   "execution_count": 9,
   "metadata": {},
   "outputs": [],
   "source": [
    "# Split data into training and testing sets\n",
    "X_Wavelet_train, X_Wavelet_test, y_train, y_test = train_test_split(\n",
    "    X_Wavelet_features, y, test_size=0.2, random_state=42\n",
    ")\n",
    "\n",
    "X_PSD_train, X_PSD_test, y_train, y_test = train_test_split(\n",
    "    X_PSD_features, y, test_size=0.2, random_state=42\n",
    ")"
   ]
  },
  {
   "cell_type": "code",
   "execution_count": 10,
   "metadata": {},
   "outputs": [],
   "source": [
    "# Scale features\n",
    "scaler_Wavelet = StandardScaler()\n",
    "X_Wavelet_train = scaler_Wavelet.fit_transform(X_Wavelet_train)\n",
    "X_Wavelet_test = scaler_Wavelet.transform(X_Wavelet_test)\n",
    "\n",
    "scaler_PSD = StandardScaler()\n",
    "X_PSD_train = scaler_PSD.fit_transform(X_PSD_train)\n",
    "X_PSD_test = scaler_PSD.transform(X_PSD_test)"
   ]
  },
  {
   "cell_type": "code",
   "execution_count": 15,
   "metadata": {},
   "outputs": [],
   "source": [
    "# Save Scaler in a pickle file\n",
    "with open(\"scaler_Wavelet.pkl\", \"wb\") as file:\n",
    "    pickle.dump(scaler_Wavelet, file)\n",
    "    \n",
    "# Save Scaler in a pickle file\n",
    "with open(\"scaler_PSD.pkl\", \"wb\") as file:\n",
    "    pickle.dump(scaler_PSD, file)"
   ]
  },
  {
   "cell_type": "code",
   "execution_count": 12,
   "metadata": {},
   "outputs": [
    {
     "name": "stdout",
     "output_type": "stream",
     "text": [
      "SVM accuracy_Wavelet: 0.9\n"
     ]
    }
   ],
   "source": [
    "# Train and evaluate SVM classifier\n",
    "svm = SVC()\n",
    "svm_params = {\n",
    "    \"C\": [0.01, 0.1, 1, 10, 100],\n",
    "    \"gamma\": [0.001, 0.01, 0.1, 1, 10],\n",
    "}  # svm_params = {\"C\": [0.1, 1, 10], \"gamma\": [0.1, 1, 10]}\n",
    "svm_grid = GridSearchCV(svm, svm_params, cv=5)\n",
    "svm_grid.fit(X_Wavelet_train, y_train)\n",
    "\n",
    "svm_preds = svm_grid.predict(X_Wavelet_test)\n",
    "    svm_accuracy = accuracy_score(y_test, svm_preds)\n",
    "print(\"SVM accuracy_Wavelet:\", svm_accuracy)\n",
    "\n",
    "\n",
    "# Save SVM model in a pickle file\n",
    "with open(\"svm_model_Wavelet.pkl\", \"wb\") as file:\n",
    "    pickle.dump(svm_grid, file)"
   ]
  },
  {
   "cell_type": "code",
   "execution_count": 39,
   "metadata": {},
   "outputs": [
    {
     "name": "stdout",
     "output_type": "stream",
     "text": [
      "SVM accuracy_PSD: 0.575\n"
     ]
    }
   ],
   "source": [
    "svm = SVC()\n",
    "svm_params = {\n",
    "    \"C\": [0.01, 0.1, 1, 10, 100],\n",
    "    \"gamma\": [0.001, 0.01, 0.1, 1, 10],\n",
    "}  # svm_params = {\"C\": [0.1, 1, 10], \"gamma\": [0.1, 1, 10]}\n",
    "svm_grid = GridSearchCV(svm, svm_params, cv=5)\n",
    "svm_grid.fit(X_PSD_train, y_train)\n",
    "\n",
    "svm_preds = svm_grid.predict(X_PSD_test)\n",
    "svm_accuracy = accuracy_score(y_test, svm_preds)\n",
    "print(\"SVM accuracy_PSD:\", svm_accuracy)\n",
    "\n",
    "\n",
    "# Save SVM model in a pickle file\n",
    "with open(\"svm_model_PSD.pkl\", \"wb\") as file:\n",
    "    pickle.dump(svm_grid, file)"
   ]
  },
  {
   "cell_type": "code",
   "execution_count": 40,
   "metadata": {},
   "outputs": [
    {
     "name": "stdout",
     "output_type": "stream",
     "text": [
      "Random forest accuracy_Wavelet: 0.85\n"
     ]
    }
   ],
   "source": [
    "# Train and evaluate random forest classifier\n",
    "rf = RandomForestClassifier()\n",
    "rf_params = {\n",
    "    \"n_estimators\": [50, 100, 200, 300, 400],\n",
    "    \"max_depth\": [5, 10, 20, 30, 40],\n",
    "}  # rf_params = {\"n_estimators\": [100, 200, 300], \"max_depth\": [5, 10, 15]}\n",
    "rf_grid = GridSearchCV(rf, rf_params, cv=5)\n",
    "rf_grid.fit(X_Wavelet_train, y_train)\n",
    "\n",
    "\n",
    "rf_preds = rf_grid.predict(X_Wavelet_test)\n",
    "rf_accuracy = accuracy_score(y_test, rf_preds)\n",
    "print(\"Random forest accuracy_Wavelet:\", rf_accuracy)\n",
    "\n",
    "# Save random forest model in a pickle file\n",
    "with open(\"rf_model_Wavelet.pkl\", \"wb\") as file:\n",
    "    pickle.dump(rf_grid, file)"
   ]
  },
  {
   "cell_type": "code",
   "execution_count": 41,
   "metadata": {},
   "outputs": [
    {
     "name": "stdout",
     "output_type": "stream",
     "text": [
      "Random forest accuracy_PSD: 0.575\n"
     ]
    }
   ],
   "source": [
    "# Train and evaluate random forest classifier\n",
    "rf = RandomForestClassifier()\n",
    "rf_params = {\n",
    "    \"n_estimators\": [50, 100, 200, 300, 400],\n",
    "    \"max_depth\": [5, 10, 20, 30, 40],\n",
    "}  # rf_params = {\"n_estimators\": [100, 200, 300], \"max_depth\": [5, 10, 15]}\n",
    "rf_grid = GridSearchCV(rf, rf_params, cv=5)\n",
    "rf_grid.fit(X_PSD_train, y_train)\n",
    "\n",
    "\n",
    "rf_preds = rf_grid.predict(X_PSD_test)\n",
    "rf_accuracy = accuracy_score(y_test, rf_preds)\n",
    "print(\"Random forest accuracy_PSD:\", rf_accuracy)\n",
    "\n",
    "# Save random forest model in a pickle file\n",
    "with open(\"rf_model_PSD.pkl\", \"wb\") as file:\n",
    "    pickle.dump(rf_grid, file)"
   ]
  }
 ],
 "metadata": {
  "kernelspec": {
   "display_name": "Python 3 (ipykernel)",
   "language": "python",
   "name": "python3"
  },
  "language_info": {
   "codemirror_mode": {
    "name": "ipython",
    "version": 3
   },
   "file_extension": ".py",
   "mimetype": "text/x-python",
   "name": "python",
   "nbconvert_exporter": "python",
   "pygments_lexer": "ipython3",
   "version": "3.9.7"
  }
 },
 "nbformat": 4,
 "nbformat_minor": 2
}
